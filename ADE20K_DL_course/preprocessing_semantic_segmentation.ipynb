{
 "cells": [
  {
   "cell_type": "code",
   "execution_count": 1,
   "metadata": {},
   "outputs": [],
   "source": [
    "import os\n",
    "import json\n",
    "from glob import glob\n",
    "from pprint import pprint\n",
    "from multiprocessing import Pool\n",
    "from collections import defaultdict\n",
    "from pathlib import Path\n",
    "from tqdm import tqdm\n",
    "import cv2\n",
    "\n",
    "import numpy as np\n",
    "import pandas as pd\n",
    "\n",
    "PATH_IMGS = './imgs/'\n",
    "PATH_JSON = './jsons/'\n",
    "PATH_IMASK = './instance_mask'\n",
    "INPUT_SHAPE = (416, 416)"
   ]
  },
  {
   "cell_type": "code",
   "execution_count": 2,
   "metadata": {},
   "outputs": [
    {
     "name": "stdout",
     "output_type": "stream",
     "text": [
      "1400 200 400\n"
     ]
    }
   ],
   "source": [
    "with open('train.txt') as f:\n",
    "    ls_train_id = [x.strip() for x in f.readlines()]\n",
    "\n",
    "with open('val.txt') as f:\n",
    "    ls_val_id = [x.strip() for x in f.readlines()]\n",
    "\n",
    "with open('test.txt') as f:\n",
    "    ls_test_id = [x.strip() for x in f.readlines()]\n",
    "\n",
    "print(len(ls_train_id), len(ls_val_id), len(ls_test_id))"
   ]
  },
  {
   "cell_type": "code",
   "execution_count": 3,
   "metadata": {},
   "outputs": [],
   "source": [
    "ls_SceneParse150 = []\n",
    "with open('SceneParse150') as f:\n",
    "    ls_SceneParse150 = [line.strip() for line in f.readlines()]"
   ]
  },
  {
   "cell_type": "code",
   "execution_count": 4,
   "metadata": {},
   "outputs": [
    {
     "name": "stdout",
     "output_type": "stream",
     "text": [
      "dict_items([('apple', 0), ('banana', 1)])\n"
     ]
    }
   ],
   "source": [
    "dict_test = defaultdict(lambda : len(dict_test))\n",
    "dict_test['apple']\n",
    "dict_test['banana']\n",
    "print(dict_test.items())"
   ]
  },
  {
   "cell_type": "code",
   "execution_count": 5,
   "metadata": {},
   "outputs": [],
   "source": [
    "class LabelEncoder:\n",
    "    def __init__(self):\n",
    "        self.label2id = defaultdict(lambda : len(self.label2id))\n",
    "        # self.label2id['bg']\n",
    "        self.id2label = dict()\n",
    "    \n",
    "    def build_id2label(self):\n",
    "        for key, value in self.label2id.items():\n",
    "            self.id2label[value] = key\n",
    "\n",
    "    def fit(self, ls_label):\n",
    "        for label in ls_label:\n",
    "            self.label2id[label]\n",
    "        self.build_id2label()\n",
    "\n",
    "    def transform(self, ls_label):\n",
    "        return [dict(self.label2id)[label] for label in ls_label]\n",
    "    \n",
    "    def fit_transform(self, ls_label):\n",
    "        ls_result = [self.label2id[label] for label in ls_label]\n",
    "        self.build_id2label()\n",
    "        return ls_result\n",
    "    \n",
    "    def get_map(self):\n",
    "        return self.label2id\n",
    "    \n",
    "    def get_reverse_map(self):\n",
    "        return self.id2label\n",
    "    \n",
    "    \n",
    "lbec = LabelEncoder()"
   ]
  },
  {
   "cell_type": "code",
   "execution_count": 6,
   "metadata": {},
   "outputs": [
    {
     "name": "stdout",
     "output_type": "stream",
     "text": [
      "150\n"
     ]
    }
   ],
   "source": [
    "for train_id in ls_train_id + ls_val_id + ls_test_id:\n",
    "    f_json = f\"jsons/ADE_val_{train_id}.json\"\n",
    "    with open(f_json) as f:\n",
    "        dict_json = json.load(f)['annotation']\n",
    "        ls_obj = dict_json['object']\n",
    "        for obj in ls_obj:\n",
    "            name = obj['name'].replace(', ', ';').replace(' ', ';').lower()\n",
    "            if name in ls_SceneParse150:\n",
    "                lbec.fit([name])\n",
    "                \n",
    "print(len(lbec.get_map()))"
   ]
  },
  {
   "cell_type": "code",
   "execution_count": 8,
   "metadata": {},
   "outputs": [],
   "source": [
    "# can't use multiproceesing becasue lbec need to update\n",
    "def get_ground_truth(img_id):\n",
    "    # X\n",
    "    f_img = cv2.imread(str(Path(PATH_IMGS) / f\"ADE_val_{img_id}.jpg\"))\n",
    "    f_img = cv2.resize(f_img, INPUT_SHAPE, interpolation=cv2.INTER_NEAREST)\n",
    "    # f_img = f_img / 255.0\n",
    "\n",
    "    # y\n",
    "    f_json = open(Path(PATH_JSON) / f'ADE_val_{img_id}.json')\n",
    "    dict_img = json.load(f_json)['annotation']\n",
    "    ls_img_obj = dict_img['object']\n",
    "    img_size = dict_img['imsize']\n",
    "    f_json.close()\n",
    "    \n",
    "    ls_obj_label = []\n",
    "    ls_obj_mask_file = []\n",
    "    for obj in ls_img_obj:\n",
    "        name = obj['name'].replace(', ', ';').replace(' ', ';').lower()\n",
    "        if name not in lbec.label2id:\n",
    "            continue\n",
    "        ls_obj_label.append(name)\n",
    "        ls_obj_mask_file.append(str(Path('./instance_mask') / obj['instance_mask']))\n",
    "    \n",
    "    ls_obj_label_id = lbec.transform(ls_obj_label)\n",
    "    np_full_seg = np.zeros(shape=img_size[:2])\n",
    "    for label, mask_file in zip(ls_obj_label_id, ls_obj_mask_file):\n",
    "        if not os.path.exists(mask_file):\n",
    "            print('can\\'t find mask file: ', label, lbec.id2label[label], mask_file)\n",
    "            continue\n",
    "\n",
    "        mask_img = cv2.imread(mask_file)\n",
    "        np_full_seg[np.all(mask_img == (255, 255, 255), axis=2)] = label\n",
    "\n",
    "    np_full_seg = cv2.resize(np_full_seg, INPUT_SHAPE, interpolation=cv2.INTER_NEAREST)\n",
    "    cv2.imwrite(f'cv2_tmp/ADE_val_{img_id}.png', np_full_seg*1.7)\n",
    "    return f_img, np_full_seg\n",
    "\n",
    "# get_ground_truth(ls_train_id[5])\n",
    "# get_ground_truth('00000471')"
   ]
  },
  {
   "cell_type": "code",
   "execution_count": 9,
   "metadata": {},
   "outputs": [],
   "source": [
    "# img = cv2.imread('instance_mask/ADE_val_00000001/instance_000_ADE_val_00000001.png')\n",
    "# print(img.shape)\n",
    "# img = cv2.resize(img, (416, 416), interpolation =cv2.INTER_NEAREST)\n",
    "# cv2.imwrite('test.png', img)"
   ]
  },
  {
   "cell_type": "code",
   "execution_count": 9,
   "metadata": {},
   "outputs": [
    {
     "name": "stderr",
     "output_type": "stream",
     "text": [
      "training preparing: 100%|██████████| 1400/1400 [00:27<00:00, 50.19it/s]\n"
     ]
    }
   ],
   "source": [
    "pool = Pool(80)\n",
    "ls_output = list(tqdm(pool.imap(get_ground_truth, ls_train_id), total=len(ls_train_id), desc='training preparing'))\n",
    "train_X, train_y = zip(*ls_output)\n",
    "train_X = np.array(train_X)\n",
    "train_y = np.array(train_y)"
   ]
  },
  {
   "cell_type": "code",
   "execution_count": 10,
   "metadata": {},
   "outputs": [
    {
     "name": "stderr",
     "output_type": "stream",
     "text": [
      "val preparing: 100%|██████████| 200/200 [00:07<00:00, 25.96it/s]\n"
     ]
    }
   ],
   "source": [
    "pool = Pool(80)\n",
    "ls_output = list(tqdm(pool.imap(get_ground_truth, ls_val_id), total=len(ls_val_id), desc='val preparing'))\n",
    "val_X, val_y = zip(*ls_output)\n",
    "val_X = np.array(val_X)\n",
    "val_y = np.array(val_y)"
   ]
  },
  {
   "cell_type": "code",
   "execution_count": 11,
   "metadata": {},
   "outputs": [
    {
     "name": "stderr",
     "output_type": "stream",
     "text": [
      "test preparing: 100%|██████████| 400/400 [00:17<00:00, 22.23it/s]\n"
     ]
    }
   ],
   "source": [
    "pool = Pool(80)\n",
    "ls_output = list(tqdm(pool.imap(get_ground_truth, ls_test_id), total=len(ls_test_id), desc='test preparing'))\n",
    "test_X, test_y = zip(*ls_output)\n",
    "test_X = np.array(test_X)\n",
    "test_y = np.array(test_y)"
   ]
  },
  {
   "cell_type": "code",
   "execution_count": 12,
   "metadata": {},
   "outputs": [],
   "source": [
    "np.savez_compressed('ADE20K_DL_seg', \n",
    "                    train_X=train_X, train_y=train_y,\n",
    "                    val_X=val_X, val_y=val_y,\n",
    "                    test_X=test_X, test_y=test_y)"
   ]
  },
  {
   "cell_type": "code",
   "execution_count": 16,
   "metadata": {},
   "outputs": [
    {
     "data": {
      "text/plain": [
       "148.0"
      ]
     },
     "execution_count": 16,
     "metadata": {},
     "output_type": "execute_result"
    }
   ],
   "source": [
    "test_y.max()"
   ]
  }
 ],
 "metadata": {
  "kernelspec": {
   "display_name": "DL",
   "language": "python",
   "name": "python3"
  },
  "language_info": {
   "codemirror_mode": {
    "name": "ipython",
    "version": 3
   },
   "file_extension": ".py",
   "mimetype": "text/x-python",
   "name": "python",
   "nbconvert_exporter": "python",
   "pygments_lexer": "ipython3",
   "version": "3.9.16"
  },
  "orig_nbformat": 4
 },
 "nbformat": 4,
 "nbformat_minor": 2
}
